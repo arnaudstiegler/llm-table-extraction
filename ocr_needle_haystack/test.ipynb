{
 "cells": [
  {
   "cell_type": "code",
   "execution_count": null,
   "metadata": {},
   "outputs": [],
   "source": [
    "from datasets import load_dataset\n",
    "# use name=\"sample-10BT\" to use the 10BT sample\n",
    "fw = load_dataset(\"HuggingFaceFW/fineweb-edu\", name=\"CC-MAIN-2024-10\", split=\"train\", streaming=True)"
   ]
  },
  {
   "cell_type": "code",
   "execution_count": 1,
   "metadata": {},
   "outputs": [
    {
     "ename": "ModuleNotFoundError",
     "evalue": "No module named 'pdf2image'",
     "output_type": "error",
     "traceback": [
      "\u001b[0;31m---------------------------------------------------------------------------\u001b[0m",
      "\u001b[0;31mModuleNotFoundError\u001b[0m                       Traceback (most recent call last)",
      "Cell \u001b[0;32mIn[1], line 15\u001b[0m\n\u001b[1;32m     13\u001b[0m \u001b[38;5;28;01mfrom\u001b[39;00m \u001b[38;5;21;01mfaker\u001b[39;00m \u001b[38;5;28;01mimport\u001b[39;00m Faker\n\u001b[1;32m     14\u001b[0m \u001b[38;5;28;01mfrom\u001b[39;00m \u001b[38;5;21;01mjinja2\u001b[39;00m \u001b[38;5;28;01mimport\u001b[39;00m Environment, FileSystemLoader\n\u001b[0;32m---> 15\u001b[0m \u001b[38;5;28;01mfrom\u001b[39;00m \u001b[38;5;21;01mpdf2image\u001b[39;00m \u001b[38;5;28;01mimport\u001b[39;00m convert_from_path\n\u001b[1;32m     16\u001b[0m \u001b[38;5;28;01mfrom\u001b[39;00m \u001b[38;5;21;01mPIL\u001b[39;00m \u001b[38;5;28;01mimport\u001b[39;00m Image\n\u001b[1;32m     17\u001b[0m \u001b[38;5;28;01mfrom\u001b[39;00m \u001b[38;5;21;01mPyPDF2\u001b[39;00m \u001b[38;5;28;01mimport\u001b[39;00m PdfReader\n",
      "\u001b[0;31mModuleNotFoundError\u001b[0m: No module named 'pdf2image'"
     ]
    }
   ],
   "source": [
    "import base64\n",
    "import json\n",
    "import os\n",
    "import random\n",
    "import time\n",
    "from io import BytesIO\n",
    "from multiprocessing import Pool\n",
    "from typing import Optional\n",
    "\n",
    "import click\n",
    "import numpy as np\n",
    "from augraphy import *\n",
    "from faker import Faker\n",
    "from jinja2 import Environment, FileSystemLoader\n",
    "from pdf2image import convert_from_path\n",
    "from PIL import Image\n",
    "from PyPDF2 import PdfReader\n",
    "from tqdm import tqdm\n",
    "from weasyprint import CSS, HTML\n",
    "from weasyprint.fonts import FontConfiguration\n",
    "\n",
    "from html_based_synthetic.augraphy_pipeline import AUG_PIPE\n",
    "from html_based_synthetic.style_utils import generate_css\n",
    "from html_based_synthetic.utils import get_random_metatype\n",
    "\n",
    "template_folder = \"ocr_needle_haystack/\"\n",
    "templates = [file for file in os.listdir(template_folder) if file.endswith(\".html\")]\n",
    "print(templates)\n",
    "env = Environment(loader=FileSystemLoader(template_folder))"
   ]
  },
  {
   "cell_type": "code",
   "execution_count": null,
   "metadata": {},
   "outputs": [],
   "source": [
    "template = env.get_template(\"random_macros.html\")\n",
    "output = template.render({'text': next(iter(fw))['text']})\n",
    "css = generate_css()\n",
    "\n",
    "font_config = FontConfiguration()\n",
    "html = HTML(string=output)\n",
    "css = CSS(string=css, font_config=font_config)\n",
    "\n",
    "html.write_pdf(\n",
    "    os.path.join(out_dir, f\"sample_{image_index}.pdf\"),\n",
    "    stylesheets=[css],\n",
    "    font_config=font_config,\n",
    ")"
   ]
  }
 ],
 "metadata": {
  "kernelspec": {
   "display_name": "venv",
   "language": "python",
   "name": "python3"
  },
  "language_info": {
   "codemirror_mode": {
    "name": "ipython",
    "version": 3
   },
   "file_extension": ".py",
   "mimetype": "text/x-python",
   "name": "python",
   "nbconvert_exporter": "python",
   "pygments_lexer": "ipython3",
   "version": "3.11.4"
  }
 },
 "nbformat": 4,
 "nbformat_minor": 2
}
