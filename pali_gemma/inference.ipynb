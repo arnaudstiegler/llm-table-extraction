{
 "cells": [
  {
   "cell_type": "code",
   "execution_count": null,
   "metadata": {},
   "outputs": [],
   "source": [
    "from transformers import PaliGemmaForConditionalGeneration, AutoProcessor\n",
    "from peft import PeftModel\n",
    "\n",
    "base_model = \"google/paligemma-3b-pt-448\"\n",
    "adapter_model = \"/home/ubuntu/out/\"\n",
    "\n",
    "model = PaliGemmaForConditionalGeneration.from_pretrained(base_model)\n",
    "model = PeftModel.from_pretrained(model, adapter_model)\n",
    "processor = AutoProcessor.from_pretrained(base_model)\n",
    "\n",
    "model.eval()"
   ]
  },
  {
   "cell_type": "code",
   "execution_count": null,
   "metadata": {},
   "outputs": [],
   "source": [
    "from datasets import load_dataset \n",
    "\n",
    "dataset = load_dataset(\"arnaudstiegler/synthetic_us_passports_easy\")"
   ]
  },
  {
   "cell_type": "code",
   "execution_count": null,
   "metadata": {},
   "outputs": [],
   "source": [
    "sample = dataset['train'][0]\n",
    "texts = [\"Process \"]\n",
    "images = [sample[\"image\"].convert(\"RGB\")]\n",
    "tokens = processor(\n",
    "    text=texts,\n",
    "    images=images,\n",
    "    return_tensors=\"pt\",\n",
    "    truncation=True,\n",
    "    padding=True,\n",
    "    max_length=128,\n",
    "    tokenize_newline_separately=False,\n",
    ")"
   ]
  },
  {
   "cell_type": "code",
   "execution_count": null,
   "metadata": {},
   "outputs": [],
   "source": [
    "out = model.generate(**tokens, max_new_tokens=128)"
   ]
  },
  {
   "cell_type": "code",
   "execution_count": null,
   "metadata": {},
   "outputs": [],
   "source": [
    "print(processor.batch_decode(out))\n",
    "print(sample)"
   ]
  }
 ],
 "metadata": {
  "language_info": {
   "name": "python"
  }
 },
 "nbformat": 4,
 "nbformat_minor": 2
}
