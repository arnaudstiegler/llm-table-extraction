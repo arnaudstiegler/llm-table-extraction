{
 "cells": [
  {
   "cell_type": "code",
   "execution_count": null,
   "metadata": {},
   "outputs": [],
   "source": [
    "import json\n",
    "from functools import partial\n",
    "\n",
    "import torch\n",
    "from datasets import load_dataset\n",
    "from transformers import (\n",
    "    AutoProcessor,\n",
    "    DonutProcessor, VisionEncoderDecoderModel,\n",
    "    Trainer,\n",
    "    TrainingArguments,\n",
    ")\n",
    "import datetime\n",
    "from transformers import VisionEncoderDecoderConfig\n",
    "\n",
    "\n",
    "max_length = 164\n",
    "image_size = [2560, 1920]\n",
    "\n",
    "model_path = '/home/ubuntu/donut/checkpoint-8500/'\n",
    "\n",
    "# update image_size of the encoder\n",
    "# during pre-training, a larger image size was used\n",
    "config = VisionEncoderDecoderConfig.from_pretrained(model_path)\n",
    "config.encoder.image_size = image_size # (height, width)\n",
    "# update max_length of the decoder (for generation)\n",
    "config.decoder.max_length = max_length\n",
    "processor = DonutProcessor.from_pretrained(\"naver-clova-ix/donut-base\", config=config)\n",
    "model = VisionEncoderDecoderModel.from_pretrained(model_path, config=config)\n",
    "model.eval()\n",
    "\n",
    "# Donut requires that\n",
    "model.config.decoder_start_token_id = processor.tokenizer.bos_token_id\n",
    "model.config.pad_token_id = processor.tokenizer.pad_token_id\n"
   ]
  },
  {
   "cell_type": "code",
   "execution_count": null,
   "metadata": {},
   "outputs": [],
   "source": [
    "from datasets import load_dataset\n",
    "\n",
    "dataset = load_dataset(\"arnaudstiegler/synthetic_us_passports_easy\")"
   ]
  },
  {
   "cell_type": "code",
   "execution_count": null,
   "metadata": {},
   "outputs": [],
   "source": [
    "model.to('cuda')"
   ]
  },
  {
   "cell_type": "code",
   "execution_count": null,
   "metadata": {},
   "outputs": [],
   "source": [
    "inp = processor(dataset['test'][1]['image'].convert('RGB'), return_tensors='pt')\n",
    "out = model.generate(pixel_values=inp['pixel_values'].to('cuda'))"
   ]
  },
  {
   "cell_type": "code",
   "execution_count": null,
   "metadata": {},
   "outputs": [],
   "source": [
    "print(processor.batch_decode(out))\n",
    "print(dataset['test'][1])"
   ]
  }
 ],
 "metadata": {
  "language_info": {
   "name": "python"
  }
 },
 "nbformat": 4,
 "nbformat_minor": 2
}
