{
 "cells": [
  {
   "cell_type": "code",
   "execution_count": null,
   "metadata": {},
   "outputs": [],
   "source": [
    "import pandas as pd\n",
    "import os\n",
    "import shutil\n",
    "import json\n",
    "from sklearn.model_selection import train_test_split\n",
    "\n",
    "scatter = []\n",
    "input_path = '/home/ubuntu/synth-doc-AI/test_run'\n",
    "dest_path = '/home/ubuntu/synthetic_us_passports'\n",
    "\n",
    "if not os.path.exists(dest_path):\n",
    "    os.mkdir(dest_path)\n",
    "\n",
    "\n",
    "meta_files = [file for file in os.listdir(input_path) if file.endswith('.json')]\n",
    "train, test = train_test_split(meta_files, test_size=160)\n",
    "\n",
    "for meta_file in meta_files:\n",
    "    img_name = meta_file.replace('metadata.json', '.png')\n",
    "    split = 'train' if meta_file in train else 'test'\n",
    "    shutil.copyfile(\n",
    "        f'{input_path}/{img_name}', \n",
    "        f'{dest_path}/{img_name}'\n",
    "    )\n",
    "    meta = json.load(os.path.join(meta_file))\n",
    "    scatter.append({'file_name': f'{split}/{img_name}', **meta})"
   ]
  },
  {
   "cell_type": "code",
   "execution_count": null,
   "metadata": {},
   "outputs": [],
   "source": [
    "df = pd.DataFrame.from_dict(scatter)"
   ]
  },
  {
   "cell_type": "code",
   "execution_count": null,
   "metadata": {},
   "outputs": [],
   "source": [
    "df.head()"
   ]
  },
  {
   "cell_type": "code",
   "execution_count": null,
   "metadata": {},
   "outputs": [],
   "source": [
    "df.to_csv(f'{input_path}/metadata.csv')"
   ]
  },
  {
   "cell_type": "code",
   "execution_count": null,
   "metadata": {},
   "outputs": [],
   "source": [
    "from datasets import load_dataset\n",
    "\n",
    "dataset = load_dataset('')"
   ]
  },
  {
   "cell_type": "code",
   "execution_count": null,
   "metadata": {},
   "outputs": [],
   "source": [
    "dataset.push_to_hub('')"
   ]
  }
 ],
 "metadata": {
  "kernelspec": {
   "display_name": "venv",
   "language": "python",
   "name": "python3"
  },
  "language_info": {
   "name": "python",
   "version": "3.11.4"
  }
 },
 "nbformat": 4,
 "nbformat_minor": 2
}
