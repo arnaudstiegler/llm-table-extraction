{
 "cells": [
  {
   "cell_type": "code",
   "execution_count": 1,
   "metadata": {},
   "outputs": [],
   "source": [
    "from jinja2 import Environment, FileSystemLoader, Template\n",
    "import os\n",
    "\n",
    "template_folder = \"/Users/arnaudstiegler/llm-table-extraction/synth_data_gen/html_components\"\n",
    "templates = [file for file in os.listdir(template_folder) if file.endswith(\".html\")]\n",
    "env = Environment(loader=FileSystemLoader(template_folder))"
   ]
  },
  {
   "cell_type": "code",
   "execution_count": 3,
   "metadata": {},
   "outputs": [
    {
     "data": {
      "text/plain": [
       "'\\n<table class=\"table\">\\n    <tr>\\n        <th>Description</th>\\n        <th>Amount</th>\\n    </tr>    \\n    \\n        <tr>\\n            <td>test</td>\\n            <td>$\\n    12.00\\n</td>\\n        </tr>\\n    \\n    <tr>\\n        <td><strong>Total Current Charges</strong></td>\\n        <td><span class=\"totalCurrentCharges\" data-metatype=\"Number\">$\\n    12.00\\n</span></td>\\n    </tr>\\n</table>'"
      ]
     },
     "execution_count": 3,
     "metadata": {},
     "output_type": "execute_result"
    }
   ],
   "source": [
    "env.get_template('table_macro.html').render(charges=[{'amount': 12, 'description': 'test'}])"
   ]
  },
  {
   "cell_type": "code",
   "execution_count": 4,
   "metadata": {},
   "outputs": [
    {
     "data": {
      "text/plain": [
       "['utils_macro.html',\n",
       " 'table_macro.html',\n",
       " 'multi_columns_kv.html',\n",
       " 'footer.html',\n",
       " 'paragraph.html',\n",
       " 'header.html']"
      ]
     },
     "execution_count": 4,
     "metadata": {},
     "output_type": "execute_result"
    }
   ],
   "source": [
    "templates"
   ]
  },
  {
   "cell_type": "code",
   "execution_count": 62,
   "metadata": {},
   "outputs": [],
   "source": [
    "from PIL import Image, ImageDraw, ImageFont\n",
    "import random\n",
    "import string\n",
    "import textwrap\n",
    "\n",
    "\n",
    "\n",
    "target_image = Image.new('RGBA', (1500, 3000),\n",
    "                       (255, 255, 255, 0))  # Change the last 0 to 255 for opaque background\n",
    "\n",
    "text_image_size = (300, 300)  # Example size, adjust as needed\n",
    "text_image = Image.new('RGBA', text_image_size,\n",
    "                       (255, 255, 255, 255))  # Change the last 0 to 255 for opaque background\n",
    "\n",
    "# Draw text on the new image\n",
    "draw = ImageDraw.Draw(text_image)\n",
    "\n",
    "draw.rectangle([(0, 0), (text_image_size[0]-4, text_image_size[1]-4)], outline='black')\n",
    "\n",
    "\n",
    "# Define the text\n",
    "random_text = ''.join(\n",
    "    random.choices(string.ascii_letters + string.digits, k=10))  # Generate random text\n",
    "\n",
    "# Optionally, specify a font (uncomment and adjust path and size)\n",
    "# font = ImageFont.truetype('path_to_font.ttf', size=15)\n",
    "font = ImageFont.truetype('/Users/arnaudstiegler/llm-table-extraction/synth_data_gen/fonts/Josefin_Sans/JosefinSans-VariableFont_wght.ttf', size=45)\n",
    "second_font = ImageFont.truetype('/Users/arnaudstiegler/llm-table-extraction/synth_data_gen/fonts/Reenie_Beanie/ReenieBeanie-Regular.ttf', size=45)\n",
    "\n",
    "# Draw the text (without specifying font will use default)\n",
    "draw.text((5, 5), \"This is the key\", fill='black', font=font)  # , font=font\n",
    "\n",
    "wrapped_text = textwrap.fill(\"this is the value\", width=text_image_size[1])\n",
    "draw.text((0, text_image_size[1]//2), wrapped_text, fill='black', font=second_font)\n",
    "\n",
    "# Paste the new image onto the target image at specified position\n",
    "paste_position = (50, 50)  # Adjust as needed\n",
    "target_image.paste(text_image, paste_position,\n",
    "                   text_image)  # The last argument ensures transparency is used"
   ]
  },
  {
   "cell_type": "code",
   "execution_count": 63,
   "metadata": {},
   "outputs": [],
   "source": [
    "import matplotlib.pyplot as plt\n",
    "\n",
    "# plt.figure(figsize=(20, 20))\n",
    "# plt.imshow(target_image)\n",
    "# plt.show()\n",
    "\n",
    "target_image.show()"
   ]
  },
  {
   "cell_type": "code",
   "execution_count": null,
   "metadata": {},
   "outputs": [],
   "source": [
    "import random\n",
    "\n",
    "def recursive_divide(rectangles):\n",
    "    for rectangle in rectangles:\n",
    "        x0, y0, x1, y1 = rectangle\n",
    "\n",
    "        if x1 - x0 < 50 or y1 - y0 < 50:\n",
    "            pass\n",
    "    random_float = random.uniform(0, 1)\n",
    "\n",
    "    if random_float <= 1.0/3:\n",
    "        return rectangles\n",
    "    elif 1.0/3 < random_float < 2.0/3:\n",
    "        random_x_divide = random.uniform(0,1)\n"
   ]
  },
  {
   "cell_type": "code",
   "execution_count": 69,
   "metadata": {},
   "outputs": [
    {
     "name": "stdout",
     "output_type": "stream",
     "text": [
      "Rectangle at (0, 0) with Width = 756.37, Height = 1083.42\n",
      "Rectangle at (756.3671033305671, 0) with Width = 464.33, Height = 211.26\n",
      "Rectangle at (756.3671033305671, 211.26013087939575) with Width = 185.15, Height = 173.03\n",
      "Rectangle at (756.3671033305671, 384.2908550601953) with Width = 185.15, Height = 225.05\n",
      "Rectangle at (941.519883814178, 211.26013087939575) with Width = 85.74, Height = 72.09\n",
      "Rectangle at (941.519883814178, 283.3472189442757) with Width = 85.74, Height = 109.98\n",
      "Rectangle at (1027.2570194706116, 211.26013087939575) with Width = 93.43, Height = 182.07\n",
      "Rectangle at (941.519883814178, 393.3307073705315) with Width = 97.33, Height = 135.50\n",
      "Rectangle at (1038.8522488250699, 393.3307073705315) with Width = 81.83, Height = 135.50\n",
      "Rectangle at (941.519883814178, 528.8277350646463) with Width = 120.41, Height = 80.52\n",
      "Rectangle at (1061.9256057873758, 528.8277350646463) with Width = 58.76, Height = 80.52\n",
      "Rectangle at (1120.6853966150138, 211.26013087939575) with Width = 31.75, Height = 398.08\n",
      "Rectangle at (1152.430946726228, 211.26013087939575) with Width = 68.26, Height = 120.20\n",
      "Rectangle at (1152.430946726228, 331.45581022752026) with Width = 68.26, Height = 105.50\n",
      "Rectangle at (1152.430946726228, 436.95756671701133) with Width = 68.26, Height = 55.05\n",
      "Rectangle at (1152.430946726228, 492.0087898205749) with Width = 68.26, Height = 117.34\n",
      "Rectangle at (756.3671033305671, 609.3437994429804) with Width = 307.49, Height = 474.07\n",
      "Rectangle at (1063.853205529584, 609.3437994429804) with Width = 9.49, Height = 232.78\n",
      "Rectangle at (1073.3455002722105, 609.3437994429804) with Width = 14.16, Height = 232.78\n",
      "Rectangle at (1087.5025470207454, 609.3437994429804) with Width = 17.10, Height = 142.26\n",
      "Rectangle at (1087.5025470207454, 751.602020875904) with Width = 17.10, Height = 90.52\n",
      "Rectangle at (1063.853205529584, 842.123579891954) with Width = 40.75, Height = 75.07\n",
      "Rectangle at (1063.853205529584, 917.1953012628512) with Width = 40.75, Height = 43.12\n",
      "Rectangle at (1063.853205529584, 960.3196514337512) with Width = 15.59, Height = 123.10\n",
      "Rectangle at (1079.4447841046335, 960.3196514337512) with Width = 25.16, Height = 123.10\n",
      "Rectangle at (1104.6018708753406, 609.3437994429804) with Width = 8.65, Height = 266.06\n",
      "Rectangle at (1113.2529606416529, 609.3437994429804) with Width = 11.07, Height = 266.06\n",
      "Rectangle at (1104.6018708753406, 875.4019855467862) with Width = 19.72, Height = 208.02\n",
      "Rectangle at (1124.318451442454, 609.3437994429804) with Width = 18.13, Height = 51.93\n",
      "Rectangle at (1142.4440223556123, 609.3437994429804) with Width = 19.41, Height = 51.93\n",
      "Rectangle at (1161.8574585953186, 609.3437994429804) with Width = 58.84, Height = 51.93\n",
      "Rectangle at (1124.318451442454, 661.2783162887031) with Width = 30.05, Height = 37.04\n",
      "Rectangle at (1154.3672551754269, 661.2783162887031) with Width = 66.33, Height = 37.04\n",
      "Rectangle at (1124.318451442454, 698.3157293701789) with Width = 96.37, Height = 24.01\n",
      "Rectangle at (1124.318451442454, 722.3221373196764) with Width = 96.37, Height = 45.07\n",
      "Rectangle at (1124.318451442454, 767.3943083745605) with Width = 96.37, Height = 214.87\n",
      "Rectangle at (1124.318451442454, 982.2679112251064) with Width = 96.37, Height = 32.82\n",
      "Rectangle at (1124.318451442454, 1015.0907435089669) with Width = 96.37, Height = 26.88\n",
      "Rectangle at (1124.318451442454, 1041.9665920741743) with Width = 96.37, Height = 41.45\n",
      "Rectangle at (1220.6928684571287, 0) with Width = 279.31, Height = 1083.42\n",
      "Rectangle at (0, 1083.4185431776352) with Width = 1500.00, Height = 339.16\n",
      "Rectangle at (0, 1422.5757421139276) with Width = 627.80, Height = 742.79\n",
      "Rectangle at (627.7969807922336, 1422.5757421139276) with Width = 414.33, Height = 742.79\n",
      "Rectangle at (1042.1225029481539, 1422.5757421139276) with Width = 53.55, Height = 301.86\n",
      "Rectangle at (1095.6750084934354, 1422.5757421139276) with Width = 44.95, Height = 192.14\n",
      "Rectangle at (1095.6750084934354, 1614.7194685103364) with Width = 44.95, Height = 109.72\n",
      "Rectangle at (1140.6223278177908, 1422.5757421139276) with Width = 43.21, Height = 301.86\n",
      "Rectangle at (1183.8299930198814, 1422.5757421139276) with Width = 102.00, Height = 301.86\n",
      "Rectangle at (1285.8327091768106, 1422.5757421139276) with Width = 214.17, Height = 81.34\n",
      "Rectangle at (1285.8327091768106, 1503.9112430732919) with Width = 214.17, Height = 81.12\n",
      "Rectangle at (1285.8327091768106, 1585.0270868852817) with Width = 97.12, Height = 139.41\n",
      "Rectangle at (1382.9506491510888, 1585.0270868852817) with Width = 117.05, Height = 139.41\n",
      "Rectangle at (1042.1225029481539, 1724.4358534808937) with Width = 457.88, Height = 55.87\n",
      "Rectangle at (1042.1225029481539, 1780.3017489584427) with Width = 211.66, Height = 46.75\n",
      "Rectangle at (1253.7788400971785, 1780.3017489584427) with Width = 246.22, Height = 46.75\n",
      "Rectangle at (1042.1225029481539, 1827.0558537444479) with Width = 457.88, Height = 39.78\n",
      "Rectangle at (1042.1225029481539, 1866.8328209139997) with Width = 457.88, Height = 17.58\n",
      "Rectangle at (1042.1225029481539, 1884.4141705942918) with Width = 49.55, Height = 280.95\n",
      "Rectangle at (1091.6700415162222, 1884.4141705942918) with Width = 35.39, Height = 280.95\n",
      "Rectangle at (1127.055535373334, 1884.4141705942918) with Width = 81.29, Height = 193.46\n",
      "Rectangle at (1127.055535373334, 2077.8717680287523) with Width = 81.29, Height = 87.49\n",
      "Rectangle at (1208.347476590431, 1884.4141705942918) with Width = 156.03, Height = 174.00\n",
      "Rectangle at (1364.3791802204348, 1884.4141705942918) with Width = 135.62, Height = 174.00\n",
      "Rectangle at (1208.347476590431, 2058.4131925453903) with Width = 183.63, Height = 106.95\n",
      "Rectangle at (1391.9778856788441, 2058.4131925453903) with Width = 108.02, Height = 106.95\n",
      "Rectangle at (0, 2165.3644986707586) with Width = 233.23, Height = 834.64\n",
      "Rectangle at (233.22644816109175, 2165.3644986707586) with Width = 217.02, Height = 834.64\n",
      "Rectangle at (450.2465234208533, 2165.3644986707586) with Width = 554.19, Height = 834.64\n",
      "Rectangle at (1004.4383332173535, 2165.3644986707586) with Width = 495.56, Height = 16.08\n",
      "Rectangle at (1004.4383332173535, 2181.4401290360543) with Width = 495.56, Height = 11.19\n",
      "Rectangle at (1004.4383332173535, 2192.6275302410245) with Width = 495.56, Height = 12.28\n",
      "Rectangle at (1004.4383332173535, 2204.911852444478) with Width = 495.56, Height = 21.51\n",
      "Rectangle at (1004.4383332173535, 2226.4237988887703) with Width = 495.56, Height = 90.42\n",
      "Rectangle at (1004.4383332173535, 2316.8466079106925) with Width = 495.56, Height = 255.01\n",
      "Rectangle at (1004.4383332173535, 2571.854098303931) with Width = 495.56, Height = 275.06\n",
      "Rectangle at (1004.4383332173535, 2846.910230763154) with Width = 99.25, Height = 76.94\n",
      "Rectangle at (1103.6878608193917, 2846.910230763154) with Width = 142.28, Height = 76.94\n",
      "Rectangle at (1004.4383332173535, 2923.8504468475285) with Width = 241.53, Height = 76.15\n",
      "Rectangle at (1245.9638459647201, 2846.910230763154) with Width = 28.28, Height = 86.98\n",
      "Rectangle at (1274.2445801392955, 2846.910230763154) with Width = 28.97, Height = 86.98\n",
      "Rectangle at (1303.2112411916985, 2846.910230763154) with Width = 109.04, Height = 86.98\n",
      "Rectangle at (1412.2560013110153, 2846.910230763154) with Width = 87.74, Height = 86.98\n",
      "Rectangle at (1245.9638459647201, 2933.889339957271) with Width = 254.04, Height = 13.05\n",
      "Rectangle at (1245.9638459647201, 2946.93903920301) with Width = 254.04, Height = 7.36\n",
      "Rectangle at (1245.9638459647201, 2954.296673046805) with Width = 254.04, Height = 24.74\n",
      "Rectangle at (1245.9638459647201, 2979.032779694326) with Width = 254.04, Height = 12.24\n",
      "Rectangle at (1245.9638459647201, 2991.27366572603) with Width = 254.04, Height = 6.10\n",
      "Rectangle at (1245.9638459647201, 2997.374995469321) with Width = 254.04, Height = 2.63\n"
     ]
    }
   ],
   "source": [
    "import random\n",
    "\n",
    "def divide_rectangle(x, y, width, height, depth=0):\n",
    "    rectangles = []  # Stores final rectangles with coordinates\n",
    "    \n",
    "    # Decide randomly not to divide further or based on depth\n",
    "    action = random.choice(['x', 'y', 'stop'])\n",
    "    \n",
    "    if action == 'stop' or depth == 10:  # Depth limit for recursion termination\n",
    "        return [(x, y, width, height)]\n",
    "    \n",
    "    # Recursive case: divide and recurse\n",
    "    if action == 'x':\n",
    "        # Divide width by a random factor\n",
    "        factor = random.uniform(0.3, 0.7)\n",
    "        width1 = width * factor\n",
    "        width2 = width - width1\n",
    "        \n",
    "        # Recurse for each new rectangle, updating x for the second rectangle\n",
    "        rectangles += divide_rectangle(x, y, width1, height, depth+1)\n",
    "        rectangles += divide_rectangle(x + width1, y, width2, height, depth+1)\n",
    "        \n",
    "    elif action == 'y':\n",
    "        # Divide height by a random factor\n",
    "        factor = random.uniform(0.3, 0.7)\n",
    "        height1 = height * factor\n",
    "        height2 = height - height1\n",
    "        \n",
    "        # Recurse for each new rectangle, updating y for the second rectangle\n",
    "        rectangles += divide_rectangle(x, y, width, height1, depth+1)\n",
    "        rectangles += divide_rectangle(x, y + height1, width, height2, depth+1)\n",
    "        \n",
    "    return rectangles\n",
    "\n",
    "# Example usage\n",
    "initial_x = 0\n",
    "initial_y = 0\n",
    "initial_width = 1500\n",
    "initial_height = 3000\n",
    "final_rectangles = divide_rectangle(initial_x, initial_y, initial_width, initial_height)\n",
    "\n",
    "for rect in final_rectangles:\n",
    "    print(f\"Rectangle at ({rect[0]}, {rect[1]}) with Width = {rect[2]:.2f}, Height = {rect[3]:.2f}\")\n"
   ]
  },
  {
   "cell_type": "code",
   "execution_count": null,
   "metadata": {},
   "outputs": [],
   "source": []
  }
 ],
 "metadata": {
  "kernelspec": {
   "display_name": "venv",
   "language": "python",
   "name": "python3"
  },
  "language_info": {
   "codemirror_mode": {
    "name": "ipython",
    "version": 3
   },
   "file_extension": ".py",
   "mimetype": "text/x-python",
   "name": "python",
   "nbconvert_exporter": "python",
   "pygments_lexer": "ipython3",
   "version": "3.11.7"
  }
 },
 "nbformat": 4,
 "nbformat_minor": 2
}
